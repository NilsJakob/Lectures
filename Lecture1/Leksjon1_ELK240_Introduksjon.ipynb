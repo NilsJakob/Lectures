{
 "cells": [
  {
   "cell_type": "markdown",
   "id": "d403e616",
   "metadata": {
    "slideshow": {
     "slide_type": "slide"
    }
   },
   "source": [
    "# Elektriske maskiner og elproduksjon (ELK240)\n",
    "# Velkommen\n",
    "# Leksjon 1: Introduksjon til emnet\n",
    "\n",
    "Introduksjon til statiske og roterende elektriske maskiner med fokus på oppbygning, funksjoner og egenskaper. Det fokuserers videre på maskinenes betydning for elproduksjon og distribusjon, samt bruk av elektrisk energi til å utføre arbeid i industrien. Emnet gir også en introduksjon til produksjon av elektrisk energi fra vann, vind, varmekraft og sol, samt hvilken betydning produksjonsteknologi har for funksjon og egenskaper til strømnettet.\n",
    "\n",
    "KE - E354: Torsdag 21. August\\\n",
    "12:15-13:00\\\n",
    "pause\\\n",
    "13:15-14:00\n",
    "\n",
    "<a href = \"images/Forelesningsplan_ELK240.pdf\"> Forelesningsplan </a>"
   ]
  },
  {
   "cell_type": "markdown",
   "id": "dd076284",
   "metadata": {
    "slideshow": {
     "slide_type": "slide"
    }
   },
   "source": [
    "<img align=\"right\" width=\"400\" src=\"images/smil_søndre_marum.jpg\"> ![](images/smil_søndre_marum.jpg) \n",
    "\n",
    "# Nils Jakob Johannesen\n",
    "- Doktorgrad i applikert maskinlæring\n",
    "- Forsker og underviser elkraft ved USN\n",
    "- Leder solcellelab ved USN\n",
    "- Digital_Solar\\\n",
    "(Direktoratet for høyere utdanning og kompetanse)\n",
    "- Programkoordiantor Elkraft og Bærekraftig Energi\n",
    "\n",
    "#### Underviser (Emneansvarlig)\n",
    "- USN 'Elektriske kraftsystemer'\n",
    "- USN 'Electrical Machines'\n",
    "- UiA 'Power System Dynamics'\n",
    "- UiT 'Systemdrift og Vern'\n"
   ]
  },
  {
   "cell_type": "markdown",
   "id": "694fb27d",
   "metadata": {
    "slideshow": {
     "slide_type": "slide"
    }
   },
   "source": [
    "<img  width=\"1100\" src=\"images/Bachelor_Power_Engineering.png\">"
   ]
  },
  {
   "cell_type": "markdown",
   "id": "34a6b54e",
   "metadata": {
    "slideshow": {
     "slide_type": "slide"
    }
   },
   "source": [
    "# Smarte nett med distribuert produksjon og ladeinfrastruktur (ELK250)\n",
    "\n",
    "Emnet gir en introduksjon til drift av distribusjonsnett med distribuerte energiressurser. Analyse av virkningene av til ladeinfrastruktur for større forbrukere som hurtigbåter og ferjer og for mindre forbrukere som elektriske biler og integrasjon av sol- og vindenergisystemer vil bli studert. Studentene skal forstå utfordringen disse systemene medfører når det gjelder spenningskvalitet, toppeffektbehov, pålitelighet og balanse i distribusjonsnettene og hvordan man kan håndtere dette. Studentene vil bli introdusert til fornybar koblingspraksis og begreper om vernekoordinering."
   ]
  },
  {
   "cell_type": "markdown",
   "id": "5562762a",
   "metadata": {
    "slideshow": {
     "slide_type": "slide"
    }
   },
   "source": [
    "# Elektriske anlegg og installasjoner 2 (ELK330)\n",
    "Emnet bygger videre på Elektriske anlegg og installasjoner 1. Emnet vil være ca. 50% prosjektarbeid og caseløsning i grupper (problem/challenge based learning) og 50% forelesninger som støtter opp om prosjektarbeidet og som bygger videre på tema fra elektriske anlegg og installasjoner 1."
   ]
  },
  {
   "cell_type": "markdown",
   "id": "6fcfb850",
   "metadata": {
    "slideshow": {
     "slide_type": "slide"
    }
   },
   "source": [
    "# Systemkomponenter og Kraftsystem\n",
    "<img  width=\"2500\" src=\"transmisjonsnett.png\">"
   ]
  },
  {
   "cell_type": "markdown",
   "id": "b29d25d5",
   "metadata": {
    "slideshow": {
     "slide_type": "slide"
    }
   },
   "source": [
    "# Smart-Grid\n",
    "1. Definisjon 1. Smart Grid (EU): Energy networks that automatically monitor energy flows and adjust to changing energy supply and demand accordingly [35]\n",
    "2. Definisjon 2. Smart Grid (IEEE): Smart Grid is a concept for transforming the electric power grid by using advanced automatic control and communications techniques and other forms of information technology [36]\n",
    "\n",
    "Et smartnett er i utgangspunktet et avansert strømnett som tar i bruk kraftelektronikk, datamaskiner,\n",
    "informasjon, kommunikasjon og cyberteknologier. Smartnettet kommer dessuten med en rekke applikasjoner:\n",
    "- Forbruksrespons (Demand Response - DR)\n",
    "- Flexible AC Transmission Systems (FACTS)\n",
    "- Smart-målere (Advanced Metering Infrastructure - AIM)"
   ]
  },
  {
   "cell_type": "markdown",
   "id": "610ae155",
   "metadata": {
    "slideshow": {
     "slide_type": "slide"
    }
   },
   "source": [
    "# 3D\n",
    "<img  width=\"800\" src=\"3D.png\">\n"
   ]
  },
  {
   "cell_type": "markdown",
   "id": "9c70a191",
   "metadata": {
    "slideshow": {
     "slide_type": "slide"
    }
   },
   "source": [
    "# Statistikk\n",
    "\n",
    "Statistisk sentralbyrå (SSB) er myndigheten for utarbeiding og formidling av offisiell statistikk i Norge, og produserer cirka 85 % av den offisielle norske statistikken. I tillegg til egen statistikkproduksjon, har SSB ansvaret for å samordne utvikling, utarbeiding og formidling av all norsk offisiell statistikk. Samordningsrollen ivaretas blant annet gjennom Utvalget for offisiell statistikk, som ledes av SSB.\n",
    "\n",
    "SSB ble etablert i 1876.\n",
    "\n",
    "[Wiki](https://no.wikipedia.org/wiki/Statistisk_sentralbyr%C3%A5)\n",
    "\n",
    "[SSB](https://www.ssb.no/energi-og-industri/energi/statistikk/elektrisitet)"
   ]
  },
  {
   "cell_type": "code",
   "execution_count": 2,
   "id": "5f952cc5",
   "metadata": {
    "slideshow": {
     "slide_type": "slide"
    }
   },
   "outputs": [],
   "source": [
    "import pandas as pd\n",
    "import matplotlib.pyplot as plt"
   ]
  },
  {
   "cell_type": "code",
   "execution_count": 3,
   "id": "68b5ca6c",
   "metadata": {
    "slideshow": {
     "slide_type": "slide"
    }
   },
   "outputs": [
    {
     "data": {
      "text/html": [
       "<div>\n",
       "<style scoped>\n",
       "    .dataframe tbody tr th:only-of-type {\n",
       "        vertical-align: middle;\n",
       "    }\n",
       "\n",
       "    .dataframe tbody tr th {\n",
       "        vertical-align: top;\n",
       "    }\n",
       "\n",
       "    .dataframe thead th {\n",
       "        text-align: right;\n",
       "    }\n",
       "</style>\n",
       "<table border=\"1\" class=\"dataframe\">\n",
       "  <thead>\n",
       "    <tr style=\"text-align: right;\">\n",
       "      <th></th>\n",
       "      <th>Produksjon i alt</th>\n",
       "      <th>Vannkraftproduksjon</th>\n",
       "      <th>Vindkraftproduksjon</th>\n",
       "      <th>Solkraftproduksjon</th>\n",
       "      <th>Varmekraftproduksjon</th>\n",
       "      <th>Import</th>\n",
       "      <th>Eksport</th>\n",
       "      <th>Bruttoforbruk</th>\n",
       "      <th>Forbruk i kraftstasjonene (-2019)</th>\n",
       "      <th>Pumpekraftforbruk</th>\n",
       "      <th>Tap og statistisk differanse</th>\n",
       "      <th>Nettoforbruk</th>\n",
       "    </tr>\n",
       "  </thead>\n",
       "  <tbody>\n",
       "    <tr>\n",
       "      <th>2008-01-01</th>\n",
       "      <td>142108</td>\n",
       "      <td>139981</td>\n",
       "      <td>913</td>\n",
       "      <td>..</td>\n",
       "      <td>1214</td>\n",
       "      <td>3414</td>\n",
       "      <td>17291</td>\n",
       "      <td>128231</td>\n",
       "      <td>637</td>\n",
       "      <td>1338</td>\n",
       "      <td>9948</td>\n",
       "      <td>116308</td>\n",
       "    </tr>\n",
       "    <tr>\n",
       "      <th>2009-01-01</th>\n",
       "      <td>131773</td>\n",
       "      <td>126077</td>\n",
       "      <td>977</td>\n",
       "      <td>..</td>\n",
       "      <td>4719</td>\n",
       "      <td>5650</td>\n",
       "      <td>14633</td>\n",
       "      <td>122790</td>\n",
       "      <td>659</td>\n",
       "      <td>1135</td>\n",
       "      <td>8629</td>\n",
       "      <td>112367</td>\n",
       "    </tr>\n",
       "    <tr>\n",
       "      <th>2010-01-01</th>\n",
       "      <td>123630</td>\n",
       "      <td>117152</td>\n",
       "      <td>879</td>\n",
       "      <td>..</td>\n",
       "      <td>5599</td>\n",
       "      <td>14673</td>\n",
       "      <td>7123</td>\n",
       "      <td>131180</td>\n",
       "      <td>560</td>\n",
       "      <td>574</td>\n",
       "      <td>9490</td>\n",
       "      <td>120556</td>\n",
       "    </tr>\n",
       "    <tr>\n",
       "      <th>2011-01-01</th>\n",
       "      <td>127631</td>\n",
       "      <td>121553</td>\n",
       "      <td>1283</td>\n",
       "      <td>..</td>\n",
       "      <td>4795</td>\n",
       "      <td>11255</td>\n",
       "      <td>14329</td>\n",
       "      <td>124557</td>\n",
       "      <td>544</td>\n",
       "      <td>1807</td>\n",
       "      <td>7263</td>\n",
       "      <td>114943</td>\n",
       "    </tr>\n",
       "    <tr>\n",
       "      <th>2012-01-01</th>\n",
       "      <td>147716</td>\n",
       "      <td>142810</td>\n",
       "      <td>1548</td>\n",
       "      <td>..</td>\n",
       "      <td>3358</td>\n",
       "      <td>4190</td>\n",
       "      <td>22006</td>\n",
       "      <td>129900</td>\n",
       "      <td>560</td>\n",
       "      <td>1536</td>\n",
       "      <td>9098</td>\n",
       "      <td>118706</td>\n",
       "    </tr>\n",
       "  </tbody>\n",
       "</table>\n",
       "</div>"
      ],
      "text/plain": [
       "            Produksjon i alt  Vannkraftproduksjon  Vindkraftproduksjon  \\\n",
       "2008-01-01            142108               139981                  913   \n",
       "2009-01-01            131773               126077                  977   \n",
       "2010-01-01            123630               117152                  879   \n",
       "2011-01-01            127631               121553                 1283   \n",
       "2012-01-01            147716               142810                 1548   \n",
       "\n",
       "           Solkraftproduksjon  Varmekraftproduksjon  Import  Eksport  \\\n",
       "2008-01-01                 ..                  1214    3414    17291   \n",
       "2009-01-01                 ..                  4719    5650    14633   \n",
       "2010-01-01                 ..                  5599   14673     7123   \n",
       "2011-01-01                 ..                  4795   11255    14329   \n",
       "2012-01-01                 ..                  3358    4190    22006   \n",
       "\n",
       "            Bruttoforbruk Forbruk i kraftstasjonene (-2019)  \\\n",
       "2008-01-01         128231                               637   \n",
       "2009-01-01         122790                               659   \n",
       "2010-01-01         131180                               560   \n",
       "2011-01-01         124557                               544   \n",
       "2012-01-01         129900                               560   \n",
       "\n",
       "            Pumpekraftforbruk  Tap og statistisk differanse  Nettoforbruk  \n",
       "2008-01-01               1338                          9948        116308  \n",
       "2009-01-01               1135                          8629        112367  \n",
       "2010-01-01                574                          9490        120556  \n",
       "2011-01-01               1807                          7263        114943  \n",
       "2012-01-01               1536                          9098        118706  "
      ]
     },
     "execution_count": 3,
     "metadata": {},
     "output_type": "execute_result"
    }
   ],
   "source": [
    "data = pd.read_excel('Produksjon_import_eksport_forbruk_elektrisk_kraft_GWh.xlsx', index_col=0, parse_dates=True)\n",
    "data.head()"
   ]
  },
  {
   "cell_type": "code",
   "execution_count": 3,
   "id": "52033251",
   "metadata": {
    "slideshow": {
     "slide_type": "slide"
    }
   },
   "outputs": [
    {
     "data": {
      "image/png": "[encoded data removed]",
      "text/plain": [
       "<Figure size 720x360 with 1 Axes>"
      ]
     },
     "metadata": {
      "needs_background": "light"
     },
     "output_type": "display_data"
    }
   ],
   "source": [
    "plt.figure(figsize=(10, 5))\n",
    "data['Solkraftproduksjon'].iloc[12:20].plot(marker='o')\n",
    "plt.title('Time Series Plot with Pandas DatetimeIndex')\n",
    "plt.xlabel('Date')\n",
    "plt.ylabel('Elektrisk kraftproduksjon (GWh)')\n",
    "plt.xticks(rotation=45)\n",
    "plt.grid(True)\n",
    "plt.tight_layout()\n",
    "plt.show()"
   ]
  },
  {
   "cell_type": "code",
   "execution_count": 4,
   "id": "323bebf4",
   "metadata": {
    "slideshow": {
     "slide_type": "slide"
    }
   },
   "outputs": [
    {
     "data": {
      "image/png": "[encoded data removed]",
      "text/plain": [
       "<Figure size 720x360 with 1 Axes>"
      ]
     },
     "metadata": {
      "needs_background": "light"
     },
     "output_type": "display_data"
    }
   ],
   "source": [
    "plt.figure(figsize=(10, 5))\n",
    "#data['Produksjon i alt'].plot(marker='o') # or df.plot(y='value', marker='o')\n",
    "#data['Vannkraftproduksjon'].plot(marker='o') # or df.plot(y='value', marker='o')\n",
    "data['Vindkraftproduksjon'].plot(marker='x') # or df.plot(y='value', marker='o')\n",
    "data['Varmekraftproduksjon'].plot(marker='v')\n",
    "data['Solkraftproduksjon'].iloc[12:20].plot(marker='o')\n",
    "plt.title('Elektrisitetsproduksjon i Norge')\n",
    "plt.xlabel('År')\n",
    "plt.ylabel('Produksjon (GWh)')\n",
    "plt.xticks(rotation=45)\n",
    "plt.grid(True)\n",
    "plt.tight_layout()\n",
    "plt.legend()\n",
    "plt.show()"
   ]
  },
  {
   "cell_type": "code",
   "execution_count": 5,
   "id": "c2b8accb",
   "metadata": {
    "slideshow": {
     "slide_type": "slide"
    }
   },
   "outputs": [
    {
     "data": {
      "text/html": [
       "<div>\n",
       "<style scoped>\n",
       "    .dataframe tbody tr th:only-of-type {\n",
       "        vertical-align: middle;\n",
       "    }\n",
       "\n",
       "    .dataframe tbody tr th {\n",
       "        vertical-align: top;\n",
       "    }\n",
       "\n",
       "    .dataframe thead th {\n",
       "        text-align: right;\n",
       "    }\n",
       "</style>\n",
       "<table border=\"1\" class=\"dataframe\">\n",
       "  <thead>\n",
       "    <tr style=\"text-align: right;\">\n",
       "      <th></th>\n",
       "      <th>Produksjon i alt</th>\n",
       "      <th>Vannkraftproduksjon</th>\n",
       "      <th>Vindkraftproduksjon</th>\n",
       "      <th>Solkraftproduksjon</th>\n",
       "      <th>Varmekraftproduksjon</th>\n",
       "      <th>Import</th>\n",
       "      <th>Eksport</th>\n",
       "      <th>Bruttoforbruk</th>\n",
       "      <th>Forbruk i kraftstasjonene (-2019)</th>\n",
       "      <th>Pumpekraftforbruk</th>\n",
       "      <th>Tap og statistisk differanse</th>\n",
       "      <th>Nettoforbruk</th>\n",
       "      <th>Andel_vannkraft</th>\n",
       "      <th>Andel_vindkraft</th>\n",
       "      <th>Andel_varmekraft</th>\n",
       "      <th>Andel_solkraft</th>\n",
       "    </tr>\n",
       "  </thead>\n",
       "  <tbody>\n",
       "    <tr>\n",
       "      <th>2008-01-01</th>\n",
       "      <td>142108</td>\n",
       "      <td>139981</td>\n",
       "      <td>913</td>\n",
       "      <td>..</td>\n",
       "      <td>1214</td>\n",
       "      <td>3414</td>\n",
       "      <td>17291</td>\n",
       "      <td>128231</td>\n",
       "      <td>637</td>\n",
       "      <td>1338</td>\n",
       "      <td>9948</td>\n",
       "      <td>116308</td>\n",
       "      <td>98.503251</td>\n",
       "      <td>0.642469</td>\n",
       "      <td>0.854280</td>\n",
       "      <td>NaN</td>\n",
       "    </tr>\n",
       "    <tr>\n",
       "      <th>2009-01-01</th>\n",
       "      <td>131773</td>\n",
       "      <td>126077</td>\n",
       "      <td>977</td>\n",
       "      <td>..</td>\n",
       "      <td>4719</td>\n",
       "      <td>5650</td>\n",
       "      <td>14633</td>\n",
       "      <td>122790</td>\n",
       "      <td>659</td>\n",
       "      <td>1135</td>\n",
       "      <td>8629</td>\n",
       "      <td>112367</td>\n",
       "      <td>95.677415</td>\n",
       "      <td>0.741427</td>\n",
       "      <td>3.581159</td>\n",
       "      <td>NaN</td>\n",
       "    </tr>\n",
       "    <tr>\n",
       "      <th>2010-01-01</th>\n",
       "      <td>123630</td>\n",
       "      <td>117152</td>\n",
       "      <td>879</td>\n",
       "      <td>..</td>\n",
       "      <td>5599</td>\n",
       "      <td>14673</td>\n",
       "      <td>7123</td>\n",
       "      <td>131180</td>\n",
       "      <td>560</td>\n",
       "      <td>574</td>\n",
       "      <td>9490</td>\n",
       "      <td>120556</td>\n",
       "      <td>94.760171</td>\n",
       "      <td>0.710992</td>\n",
       "      <td>4.528836</td>\n",
       "      <td>NaN</td>\n",
       "    </tr>\n",
       "    <tr>\n",
       "      <th>2011-01-01</th>\n",
       "      <td>127631</td>\n",
       "      <td>121553</td>\n",
       "      <td>1283</td>\n",
       "      <td>..</td>\n",
       "      <td>4795</td>\n",
       "      <td>11255</td>\n",
       "      <td>14329</td>\n",
       "      <td>124557</td>\n",
       "      <td>544</td>\n",
       "      <td>1807</td>\n",
       "      <td>7263</td>\n",
       "      <td>114943</td>\n",
       "      <td>95.237834</td>\n",
       "      <td>1.005242</td>\n",
       "      <td>3.756924</td>\n",
       "      <td>NaN</td>\n",
       "    </tr>\n",
       "    <tr>\n",
       "      <th>2012-01-01</th>\n",
       "      <td>147716</td>\n",
       "      <td>142810</td>\n",
       "      <td>1548</td>\n",
       "      <td>..</td>\n",
       "      <td>3358</td>\n",
       "      <td>4190</td>\n",
       "      <td>22006</td>\n",
       "      <td>129900</td>\n",
       "      <td>560</td>\n",
       "      <td>1536</td>\n",
       "      <td>9098</td>\n",
       "      <td>118706</td>\n",
       "      <td>96.678762</td>\n",
       "      <td>1.047957</td>\n",
       "      <td>2.273281</td>\n",
       "      <td>NaN</td>\n",
       "    </tr>\n",
       "  </tbody>\n",
       "</table>\n",
       "</div>"
      ],
      "text/plain": [
       "            Produksjon i alt  Vannkraftproduksjon  Vindkraftproduksjon  \\\n",
       "2008-01-01            142108               139981                  913   \n",
       "2009-01-01            131773               126077                  977   \n",
       "2010-01-01            123630               117152                  879   \n",
       "2011-01-01            127631               121553                 1283   \n",
       "2012-01-01            147716               142810                 1548   \n",
       "\n",
       "           Solkraftproduksjon  Varmekraftproduksjon  Import  Eksport  \\\n",
       "2008-01-01                 ..                  1214    3414    17291   \n",
       "2009-01-01                 ..                  4719    5650    14633   \n",
       "2010-01-01                 ..                  5599   14673     7123   \n",
       "2011-01-01                 ..                  4795   11255    14329   \n",
       "2012-01-01                 ..                  3358    4190    22006   \n",
       "\n",
       "            Bruttoforbruk Forbruk i kraftstasjonene (-2019)  \\\n",
       "2008-01-01         128231                               637   \n",
       "2009-01-01         122790                               659   \n",
       "2010-01-01         131180                               560   \n",
       "2011-01-01         124557                               544   \n",
       "2012-01-01         129900                               560   \n",
       "\n",
       "            Pumpekraftforbruk  Tap og statistisk differanse  Nettoforbruk  \\\n",
       "2008-01-01               1338                          9948        116308   \n",
       "2009-01-01               1135                          8629        112367   \n",
       "2010-01-01                574                          9490        120556   \n",
       "2011-01-01               1807                          7263        114943   \n",
       "2012-01-01               1536                          9098        118706   \n",
       "\n",
       "            Andel_vannkraft  Andel_vindkraft  Andel_varmekraft Andel_solkraft  \n",
       "2008-01-01        98.503251         0.642469          0.854280            NaN  \n",
       "2009-01-01        95.677415         0.741427          3.581159            NaN  \n",
       "2010-01-01        94.760171         0.710992          4.528836            NaN  \n",
       "2011-01-01        95.237834         1.005242          3.756924            NaN  \n",
       "2012-01-01        96.678762         1.047957          2.273281            NaN  "
      ]
     },
     "execution_count": 5,
     "metadata": {},
     "output_type": "execute_result"
    }
   ],
   "source": [
    "#df['Percentage'] = (df['Value_Part'] / df['Value_Total']) * 100\n",
    "data['Andel_vannkraft'] = (data['Vannkraftproduksjon']/data['Produksjon i alt'])*100\n",
    "data['Andel_vindkraft'] = (data['Vindkraftproduksjon']/data['Produksjon i alt'])*100\n",
    "data['Andel_varmekraft'] = (data['Varmekraftproduksjon']/data['Produksjon i alt'])*100\n",
    "data['Andel_solkraft'] = (data['Solkraftproduksjon'].iloc[12:20]/data['Produksjon i alt'])*100\n",
    "data.head()"
   ]
  },
  {
   "cell_type": "code",
   "execution_count": 6,
   "id": "7ec788cf",
   "metadata": {
    "slideshow": {
     "slide_type": "slide"
    }
   },
   "outputs": [
    {
     "data": {
      "image/png": "[encoded data removed]",
      "text/plain": [
       "<Figure size 720x360 with 1 Axes>"
      ]
     },
     "metadata": {
      "needs_background": "light"
     },
     "output_type": "display_data"
    }
   ],
   "source": [
    "plt.figure(figsize=(10, 5))\n",
    "#data['Produksjon i alt'].plot(marker='o') # or df.plot(y='value', marker='o')\n",
    "data['Andel_vannkraft'].plot(marker='o') # or df.plot(y='value', marker='o')\n",
    "data['Andel_vindkraft'].plot(marker='x') # or df.plot(y='value', marker='o')\n",
    "data['Andel_varmekraft'].plot(marker='v')\n",
    "data['Andel_solkraft'].iloc[12:20].plot(marker='o')\n",
    "plt.title('Elektrisitetsproduksjon i Norge andeler')\n",
    "plt.xlabel('År')\n",
    "plt.ylabel('Produksjon (GWh)')\n",
    "plt.xticks(rotation=45)\n",
    "plt.grid(True)\n",
    "plt.tight_layout()\n",
    "plt.legend()\n",
    "plt.show()"
   ]
  },
  {
   "cell_type": "code",
   "execution_count": 7,
   "id": "9241f775",
   "metadata": {
    "slideshow": {
     "slide_type": "slide"
    }
   },
   "outputs": [
    {
     "data": {
      "text/html": [
       "<div>\n",
       "<style scoped>\n",
       "    .dataframe tbody tr th:only-of-type {\n",
       "        vertical-align: middle;\n",
       "    }\n",
       "\n",
       "    .dataframe tbody tr th {\n",
       "        vertical-align: top;\n",
       "    }\n",
       "\n",
       "    .dataframe thead th {\n",
       "        text-align: right;\n",
       "    }\n",
       "</style>\n",
       "<table border=\"1\" class=\"dataframe\">\n",
       "  <thead>\n",
       "    <tr style=\"text-align: right;\">\n",
       "      <th></th>\n",
       "      <th>Produksjon i alt</th>\n",
       "      <th>Vannkraftproduksjon</th>\n",
       "      <th>Vindkraftproduksjon</th>\n",
       "      <th>Solkraftproduksjon</th>\n",
       "      <th>Varmekraftproduksjon</th>\n",
       "      <th>Import</th>\n",
       "      <th>Eksport</th>\n",
       "      <th>Bruttoforbruk</th>\n",
       "      <th>Forbruk i kraftstasjonene (-2019)</th>\n",
       "      <th>Pumpekraftforbruk</th>\n",
       "      <th>Tap og statistisk differanse</th>\n",
       "      <th>Nettoforbruk</th>\n",
       "      <th>Andel_vannkraft</th>\n",
       "      <th>Andel_vindkraft</th>\n",
       "      <th>Andel_varmekraft</th>\n",
       "      <th>Andel_solkraft</th>\n",
       "    </tr>\n",
       "  </thead>\n",
       "  <tbody>\n",
       "    <tr>\n",
       "      <th>2008-01-01</th>\n",
       "      <td>142108</td>\n",
       "      <td>139981</td>\n",
       "      <td>913</td>\n",
       "      <td>..</td>\n",
       "      <td>1214</td>\n",
       "      <td>3414</td>\n",
       "      <td>17291</td>\n",
       "      <td>128231</td>\n",
       "      <td>637</td>\n",
       "      <td>1338</td>\n",
       "      <td>9948</td>\n",
       "      <td>116308</td>\n",
       "      <td>98.503251</td>\n",
       "      <td>0.642469</td>\n",
       "      <td>0.854280</td>\n",
       "      <td>NaN</td>\n",
       "    </tr>\n",
       "    <tr>\n",
       "      <th>2009-01-01</th>\n",
       "      <td>131773</td>\n",
       "      <td>126077</td>\n",
       "      <td>977</td>\n",
       "      <td>..</td>\n",
       "      <td>4719</td>\n",
       "      <td>5650</td>\n",
       "      <td>14633</td>\n",
       "      <td>122790</td>\n",
       "      <td>659</td>\n",
       "      <td>1135</td>\n",
       "      <td>8629</td>\n",
       "      <td>112367</td>\n",
       "      <td>95.677415</td>\n",
       "      <td>0.741427</td>\n",
       "      <td>3.581159</td>\n",
       "      <td>NaN</td>\n",
       "    </tr>\n",
       "    <tr>\n",
       "      <th>2010-01-01</th>\n",
       "      <td>123630</td>\n",
       "      <td>117152</td>\n",
       "      <td>879</td>\n",
       "      <td>..</td>\n",
       "      <td>5599</td>\n",
       "      <td>14673</td>\n",
       "      <td>7123</td>\n",
       "      <td>131180</td>\n",
       "      <td>560</td>\n",
       "      <td>574</td>\n",
       "      <td>9490</td>\n",
       "      <td>120556</td>\n",
       "      <td>94.760171</td>\n",
       "      <td>0.710992</td>\n",
       "      <td>4.528836</td>\n",
       "      <td>NaN</td>\n",
       "    </tr>\n",
       "    <tr>\n",
       "      <th>2011-01-01</th>\n",
       "      <td>127631</td>\n",
       "      <td>121553</td>\n",
       "      <td>1283</td>\n",
       "      <td>..</td>\n",
       "      <td>4795</td>\n",
       "      <td>11255</td>\n",
       "      <td>14329</td>\n",
       "      <td>124557</td>\n",
       "      <td>544</td>\n",
       "      <td>1807</td>\n",
       "      <td>7263</td>\n",
       "      <td>114943</td>\n",
       "      <td>95.237834</td>\n",
       "      <td>1.005242</td>\n",
       "      <td>3.756924</td>\n",
       "      <td>NaN</td>\n",
       "    </tr>\n",
       "    <tr>\n",
       "      <th>2012-01-01</th>\n",
       "      <td>147716</td>\n",
       "      <td>142810</td>\n",
       "      <td>1548</td>\n",
       "      <td>..</td>\n",
       "      <td>3358</td>\n",
       "      <td>4190</td>\n",
       "      <td>22006</td>\n",
       "      <td>129900</td>\n",
       "      <td>560</td>\n",
       "      <td>1536</td>\n",
       "      <td>9098</td>\n",
       "      <td>118706</td>\n",
       "      <td>96.678762</td>\n",
       "      <td>1.047957</td>\n",
       "      <td>2.273281</td>\n",
       "      <td>NaN</td>\n",
       "    </tr>\n",
       "  </tbody>\n",
       "</table>\n",
       "</div>"
      ],
      "text/plain": [
       "            Produksjon i alt  Vannkraftproduksjon  Vindkraftproduksjon  \\\n",
       "2008-01-01            142108               139981                  913   \n",
       "2009-01-01            131773               126077                  977   \n",
       "2010-01-01            123630               117152                  879   \n",
       "2011-01-01            127631               121553                 1283   \n",
       "2012-01-01            147716               142810                 1548   \n",
       "\n",
       "           Solkraftproduksjon  Varmekraftproduksjon  Import  Eksport  \\\n",
       "2008-01-01                 ..                  1214    3414    17291   \n",
       "2009-01-01                 ..                  4719    5650    14633   \n",
       "2010-01-01                 ..                  5599   14673     7123   \n",
       "2011-01-01                 ..                  4795   11255    14329   \n",
       "2012-01-01                 ..                  3358    4190    22006   \n",
       "\n",
       "            Bruttoforbruk Forbruk i kraftstasjonene (-2019)  \\\n",
       "2008-01-01         128231                               637   \n",
       "2009-01-01         122790                               659   \n",
       "2010-01-01         131180                               560   \n",
       "2011-01-01         124557                               544   \n",
       "2012-01-01         129900                               560   \n",
       "\n",
       "            Pumpekraftforbruk  Tap og statistisk differanse  Nettoforbruk  \\\n",
       "2008-01-01               1338                          9948        116308   \n",
       "2009-01-01               1135                          8629        112367   \n",
       "2010-01-01                574                          9490        120556   \n",
       "2011-01-01               1807                          7263        114943   \n",
       "2012-01-01               1536                          9098        118706   \n",
       "\n",
       "            Andel_vannkraft  Andel_vindkraft  Andel_varmekraft Andel_solkraft  \n",
       "2008-01-01        98.503251         0.642469          0.854280            NaN  \n",
       "2009-01-01        95.677415         0.741427          3.581159            NaN  \n",
       "2010-01-01        94.760171         0.710992          4.528836            NaN  \n",
       "2011-01-01        95.237834         1.005242          3.756924            NaN  \n",
       "2012-01-01        96.678762         1.047957          2.273281            NaN  "
      ]
     },
     "execution_count": 7,
     "metadata": {},
     "output_type": "execute_result"
    }
   ],
   "source": [
    "data.head()"
   ]
  },
  {
   "cell_type": "code",
   "execution_count": 5,
   "id": "ce8ecfce",
   "metadata": {
    "slideshow": {
     "slide_type": "slide"
    }
   },
   "outputs": [
    {
     "data": {
      "image/png": "[encoded data removed]",
      "text/plain": [
       "<Figure size 576x576 with 1 Axes>"
      ]
     },
     "metadata": {},
     "output_type": "display_data"
    }
   ],
   "source": [
    "# Get the last row of the DataFrame\n",
    "last_row = data.iloc[-2, [1, 4, 2, 3]]\n",
    "\n",
    "# Plot the pie chart\n",
    "plt.figure(figsize=(8, 8)) # Optional: set figure size\n",
    "last_row.plot.pie(autopct='%1.1f%%', startangle=45,  labeldistance=1.25, pctdistance=1.2)\n",
    "plt.title('Prosentvis Distribusjon av en rad [ÅR]') # Optional: Add a title\n",
    "plt.ylabel('') # Optional: Remove the default y-axis label\n",
    "#plt.set_aspect('equal')\n",
    "plt.axis('equal')\n",
    "#plt.legend()\n",
    "plt.show()"
   ]
  },
  {
   "cell_type": "markdown",
   "id": "cf4cac76",
   "metadata": {
    "slideshow": {
     "slide_type": "slide"
    }
   },
   "source": [
    "[Og det samme fra SSB](https://www.ssb.no/energi-og-industri/energi/statistikk/elektrisitet/artikler/rekordhoy-stromproduksjon-i-2024)"
   ]
  },
  {
   "cell_type": "markdown",
   "id": "104ce154",
   "metadata": {
    "slideshow": {
     "slide_type": "slide"
    }
   },
   "source": [
    "\n",
    "<img align='left' width=\"400\" src=\"coffe_break.png\">\n",
    "\n",
    "15 minutter pause\n",
    "\n",
    "Vi starter igjen 13:15"
   ]
  },
  {
   "cell_type": "markdown",
   "id": "0fc02cfa",
   "metadata": {
    "slideshow": {
     "slide_type": "slide"
    }
   },
   "source": [
    "# Kraftproduksjon\n",
    "- Dieselaggregat\n",
    "- Gasskraftverk\n",
    "- Dampkraftverk\n",
    "- Kombikraftverk\n",
    "- Kraftvarmeverk\n",
    "- Kjernekraftverk\n",
    "#  Fornybar energiproduskjon\n",
    "- Vannkraft\n",
    "- Vindkraft\n",
    "- Solkraft"
   ]
  },
  {
   "cell_type": "markdown",
   "id": "856541e4",
   "metadata": {
    "slideshow": {
     "slide_type": "slide"
    }
   },
   "source": [
    "\n",
    "# Synkrongeneratoren hjertet av kraftsystemet\n",
    "\n",
    "<img width=\"1500\" src=\"Synkrongenerator.png\">\n",
    "\n",
    "[kilde](https://electricalacademia.com/synchronous-machines/ac-synchronous-generator-working-principle-types/)\n",
    "\n"
   ]
  },
  {
   "cell_type": "markdown",
   "id": "dda8cb2b",
   "metadata": {
    "slideshow": {
     "slide_type": "slide"
    }
   },
   "source": [
    "\n",
    "# Synkronsystemet\n",
    "\n",
    "<img width=\"800\" src=\"synkronsystem.png\">"
   ]
  },
  {
   "cell_type": "markdown",
   "id": "42f9a55b",
   "metadata": {
    "slideshow": {
     "slide_type": "slide"
    }
   },
   "source": [
    "# Vannkraft\n",
    "\n",
    "<img width=\"800\" src=\"vannkraft.png\">\n",
    "\n",
    "Kilde: H. Sadat"
   ]
  },
  {
   "cell_type": "markdown",
   "id": "f5404684",
   "metadata": {
    "slideshow": {
     "slide_type": "slide"
    }
   },
   "source": [
    "# Dampkraft\n",
    "\n",
    "<img width=\"800\" src=\"dampkraftverk.png\">\n",
    "Kull brent i kjelen varmer opp vann for å produsere damp. Dampen snurrer turbinen, som driver generatoren.\n",
    "\n",
    "Kilde: © Tennessee Valley Authority"
   ]
  },
  {
   "cell_type": "markdown",
   "id": "f0e83d66",
   "metadata": {
    "slideshow": {
     "slide_type": "slide"
    }
   },
   "source": [
    "# Kjernekraft\n",
    "\n",
    "<img width=\"800\" src=\"kjernekraft.png\">"
   ]
  },
  {
   "cell_type": "markdown",
   "id": "420bc4d5",
   "metadata": {
    "slideshow": {
     "slide_type": "slide"
    }
   },
   "source": [
    "# Fornybar Energi\n",
    "\n",
    "- <a href = \"USN_solar_lab_presentation_Masters_110825.pdf\"> Solkraft </a>\n",
    "- Vannkraft\n",
    "- Vindkraft\n",
    "- pumpekraft"
   ]
  },
  {
   "cell_type": "markdown",
   "id": "a2a24d17",
   "metadata": {
    "slideshow": {
     "slide_type": "slide"
    }
   },
   "source": [
    "# Modellere solcelle\n",
    "<img align=\"right\" width=\"400\" src=\"solcellekrets.png\">\n",
    "\\begin{equation}\n",
    "    I_{pv} = I_{ph} - I_{D}\n",
    "\\end{equation}\n",
    "\n",
    "$I_D$ - diodestrømmen\\\n",
    "$I_o$ - Mørk strøm, reversert mettet diodestrøm\\\n",
    "q - ladning til et elektron $1.602\\cdot 10^{-19}C$\\\n",
    "$I_{D}$ - strømmen over dioden\\\n",
    "k - Boltzman's constant  $1.380649\\cdot10^{-23}\\frac{J}{K}$\\\n",
    "T - Temperatur i Kelvin (K)\\\n",
    "$\\alpha$ - ideell diode faktor $\\approx$ 1\\\n",
    "Strømmen som genereres i en solcelle kan vi finne i ligning:\n",
    "\n",
    "\\begin{equation}\n",
    "    I_{pv} = I_{ph} - I_o\\bigg(e^{\\frac{qV}{\\alpha k T}}-1\\bigg)\n",
    "\\end{equation}"
   ]
  },
  {
   "cell_type": "markdown",
   "id": "5c6e35d4",
   "metadata": {
    "slideshow": {
     "slide_type": "slide"
    }
   },
   "source": [
    "# Modellere Vindkraft\n",
    "<img align=\"left\" width=\"600\" src=\"vindturbin.png\">\n",
    "\n",
    " \\begin{equation}\n",
    "        E_k = \\frac{1}{2}mv^2\n",
    "        \\label{eq:kinetic}\n",
    "    \\end{equation}"
   ]
  },
  {
   "cell_type": "markdown",
   "id": "7d4e5ff3",
   "metadata": {
    "slideshow": {
     "slide_type": "slide"
    }
   },
   "source": [
    "# Modellere Vindkraft\n",
    "<img align=\"left\" width=\"600\" src=\"sveipeareal.png\">\n",
    "\n",
    "\\begin{equation*}\n",
    "    P = \\frac{1}{2}C_p\\rho_{luft}A\\cdot v^3\n",
    "\\end{equation*}\n",
    "Der:\n",
    "\\begin{align*}\n",
    "    \\rho &= \\text{massetthet luft}(1,25\\frac{kg}{m^3})\\\\\n",
    "    v &= \\text{vindhastighet (m/s)} \\\\\n",
    "    A &= \\text{rotorens sveipeareal} \\quad m^2\\\\\n",
    "    C_p &= \\text{effekt koeffisient}\n",
    "\\end{align*}"
   ]
  },
  {
   "cell_type": "markdown",
   "id": "82c6df43",
   "metadata": {
    "slideshow": {
     "slide_type": "slide"
    }
   },
   "source": [
    "# Beregning vindmølle\n",
    "<img align=\"left\"  width=\"800\" src=\"vindkraft_beregning.png\">\n",
    "\n",
    "\n",
    "\n",
    "<center>**Tabell 2.1.Typer kull, innkullingsgrad og energitetthet**</center>\n",
    "\n",
    "|Quantity| Unit| Symbol|\n",
    "|:---|:---:|---:|\n",
    "| Type  | Inkullingsgrad | energitetthet (MJ/kg)| \n",
    "        |Brunkull/lignitt |Lav (65-80\\% karbon)|10-20 (MJ/kg)|\n",
    "    |   Bituminøst og sub-bituminøst steinkull|Middels  (80-90 \\% Karbon) | 20 – 32 MJ/kg|\n",
    "Antrasitt |Høyest (90-98 \\% Karbon)| 26-33 MJ/kg|\n",
    "\n",
    "\n",
    "\n"
   ]
  },
  {
   "cell_type": "markdown",
   "id": "23660175",
   "metadata": {
    "slideshow": {
     "slide_type": "slide"
    }
   },
   "source": [
    "# Korrelasjonsanalyse sol og vind\n",
    "<img width=\"400\" src=\"smøla.png\">\n",
    "\n",
    "Smøla vindpark med 22 kV distribuert overføringssystem.\n",
    "Kildedata: © Geografisk informasjonssystem (GIS) fil fra Norges\n",
    "vassdrags- og energidirektorat (NVE) og grunnkart geodatasett fra\n",
    "OpenStreetMap og Stamen [18].\n",
    "0"
   ]
  },
  {
   "cell_type": "markdown",
   "id": "592a68a2",
   "metadata": {
    "slideshow": {
     "slide_type": "slide"
    }
   },
   "source": [
    "# Beregning vindmølle\n",
    "<img width=\"800\" src=\"Effektkurve_vindturbin.png\">"
   ]
  },
  {
   "cell_type": "markdown",
   "id": "4e0f37cc",
   "metadata": {
    "slideshow": {
     "slide_type": "slide"
    }
   },
   "source": [
    "# Pumpekraft\n",
    "<img width=\"800\" src=\"sira_vassdraget.png\">\n",
    "\n",
    "Sira-vassdraget med kraftstasjonene Duge, Tjørhom, Tonstad og Åna-Sira."
   ]
  },
  {
   "cell_type": "markdown",
   "id": "377df636",
   "metadata": {
    "slideshow": {
     "slide_type": "slide"
    }
   },
   "source": [
    "# Lastprofil døgn\n",
    "<img width=\"800\" src=\"Lastprofil_døgn.png\">"
   ]
  },
  {
   "cell_type": "markdown",
   "id": "1a503fa8",
   "metadata": {
    "slideshow": {
     "slide_type": "slide"
    }
   },
   "source": [
    "# Lastprofil uke\n",
    "<img width=\"800\" src=\"Lastprofil_uke.png\">"
   ]
  },
  {
   "cell_type": "markdown",
   "id": "f29d7bbf",
   "metadata": {
    "slideshow": {
     "slide_type": "slide"
    }
   },
   "source": [
    "# Lastprofil år\n",
    "<img width=\"800\" src=\"Lastprofil_sesong.png\">"
   ]
  },
  {
   "cell_type": "markdown",
   "id": "ab471e17",
   "metadata": {
    "slideshow": {
     "slide_type": "slide"
    }
   },
   "source": [
    "# Oppsummering\n",
    "## Komponent eller system\n",
    "## Data er viktig i energitransisjonen (3D)\n",
    "## Synkrongeneratoren hjertet i kraftsystemet\n",
    "## Balanse mellom produksjon og forbruk (50 Hz)\n",
    "## Utfordring med mer intermittent fornybar energi "
   ]
  }
 ],
 "metadata": {
  "celltoolbar": "Slideshow",
  "kernelspec": {
   "display_name": "Python 3 (ipykernel)",
   "language": "python",
   "name": "python3"
  },
  "language_info": {
   "codemirror_mode": {
    "name": "ipython",
    "version": 3
   },
   "file_extension": ".py",
   "mimetype": "text/x-python",
   "name": "python",
   "nbconvert_exporter": "python",
   "pygments_lexer": "ipython3",
   "version": "3.8.0"
  }
 },
 "nbformat": 4,
 "nbformat_minor": 5
}
